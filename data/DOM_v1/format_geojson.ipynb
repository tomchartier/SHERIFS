{
 "cells": [
  {
   "cell_type": "code",
   "execution_count": 3,
   "metadata": {},
   "outputs": [],
   "source": [
    "file_line = 'dom_in_v1.geojson'\n",
    "\n",
    "import json\n",
    "import numpy as np\n",
    "with open(file_line, 'r') as f:\n",
    "    data = json.load(f)"
   ]
  },
  {
   "cell_type": "code",
   "execution_count": 6,
   "metadata": {},
   "outputs": [],
   "source": [
    "def get_median(data):\n",
    "    data = data.replace('(',''); data = data.replace(')','')\n",
    "    data_all = data.split(',')\n",
    "    datas = []\n",
    "    #if sum([len(d) for d in data_all]) == 0:\n",
    "    #    return 0.\n",
    "    #else:\n",
    "    for d in data_all:\n",
    "        if len(d) > 0: \n",
    "            datas.append(float(d)) \n",
    "    return np.median(datas)\n"
   ]
  },
  {
   "cell_type": "code",
   "execution_count": 10,
   "metadata": {},
   "outputs": [],
   "source": [
    "import re\n",
    "\n",
    "for feature in data['features']:\n",
    "    # take middle dip\n",
    "    dip = feature['properties']['dip']\n",
    "    if type(dip) is str:\n",
    "        feature['properties']['dip'] = get_median(dip)\n",
    "    else:\n",
    "        feature['properties']['dip'] = 70\n",
    "    # get sliprates set up\n",
    "    nsr = feature['properties']['net_slip_rate']\n",
    "    ssr = feature['properties']['strike_slip_rate']\n",
    "    shr = feature['properties']['shortening_rate']\n",
    "\n",
    "    if type(nsr) is str:\n",
    "        isnum = any(i.isdigit() for i in nsr)\n",
    "    \n",
    "    if (type(nsr) is str) & (isnum is True):\n",
    "    #and (type(ssr) is not str) & (type(shr) is not str):\n",
    "        feature['properties']['v_rl'] = get_median(nsr)\n",
    "        feature['properties']['v_ex'] = 0.\n",
    "        \n",
    "    elif (type(ssr) is str) & (type(shr) is not str):\n",
    "        feature['properties']['v_rl'] = get_median(ssr)\n",
    "        feature['properties']['v_ex'] = 0\n",
    "    \n",
    "    elif (type(shr) is str) & (type(ssr) is not str):# & (type(nsr) is not str):\n",
    "        feature['properties']['v_ex'] = get_median(shr)\n",
    "        feature['properties']['v_rl'] = 0\n",
    "        \n",
    "    elif (type(ssr) is str) & (type(shr) is str):# & (type(nsr) is not str):\n",
    "        feature['properties']['v_rl'] = get_median(ssr)\n",
    "        feature['properties']['v_ex'] = get_median(shr)\n",
    "    else:\n",
    "        import pdb; pdb.set_trace()\n",
    "        feature['properties']['v_ex'] = 0\n",
    "        feature['properties']['v_rl'] = 0\n",
    "            \n",
    "    feature['properties']['e_ex'] = 0.\n",
    "    feature['properties']['e_rl'] = 0.\n",
    "    feature['properties']['fid'] = feature['properties']['source_id']\n"
   ]
  },
  {
   "cell_type": "code",
   "execution_count": 11,
   "metadata": {},
   "outputs": [],
   "source": [
    "file2 = 'dom_in_forced.geojson'\n",
    "with open(file2, 'w+') as f:\n",
    "    json.dump(data, f, indent=2)"
   ]
  },
  {
   "cell_type": "code",
   "execution_count": null,
   "metadata": {},
   "outputs": [],
   "source": []
  }
 ],
 "metadata": {
  "kernelspec": {
   "display_name": "Python 3",
   "language": "python",
   "name": "python3"
  },
  "language_info": {
   "codemirror_mode": {
    "name": "ipython",
    "version": 3
   },
   "file_extension": ".py",
   "mimetype": "text/x-python",
   "name": "python",
   "nbconvert_exporter": "python",
   "pygments_lexer": "ipython3",
   "version": "3.6.8"
  }
 },
 "nbformat": 4,
 "nbformat_minor": 2
}
